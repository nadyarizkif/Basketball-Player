{
 "cells": [
  {
   "cell_type": "markdown",
   "metadata": {},
   "source": [
    "# BASKET PLAYERS HUNTING\n",
    "\n",
    "#### Syarat:\n",
    "- Usia (Age) <= 25 tahun,\n",
    "- Tinggi badan (Height) >= 180 cm,\n",
    "- Berat badan (Weight) <= 90 kg,\n",
    "- Rata-rata point (Average points scored) >= 6, dan\n",
    "- Rata-rata rebound (Average rebounds grabbed) >= 3."
   ]
  },
  {
   "cell_type": "code",
   "execution_count": 1,
   "metadata": {},
   "outputs": [],
   "source": [
    "import pandas as pd\n",
    "import numpy as np "
   ]
  },
  {
   "cell_type": "code",
   "execution_count": 2,
   "metadata": {},
   "outputs": [
    {
     "data": {
      "text/html": [
       "<div>\n",
       "<style scoped>\n",
       "    .dataframe tbody tr th:only-of-type {\n",
       "        vertical-align: middle;\n",
       "    }\n",
       "\n",
       "    .dataframe tbody tr th {\n",
       "        vertical-align: top;\n",
       "    }\n",
       "\n",
       "    .dataframe thead th {\n",
       "        text-align: right;\n",
       "    }\n",
       "</style>\n",
       "<table border=\"1\" class=\"dataframe\">\n",
       "  <thead>\n",
       "    <tr style=\"text-align: right;\">\n",
       "      <th></th>\n",
       "      <th>Unnamed: 0</th>\n",
       "      <th>player_name</th>\n",
       "      <th>team_abbreviation</th>\n",
       "      <th>age</th>\n",
       "      <th>player_height</th>\n",
       "      <th>player_weight</th>\n",
       "      <th>college</th>\n",
       "      <th>country</th>\n",
       "      <th>draft_year</th>\n",
       "      <th>draft_round</th>\n",
       "      <th>...</th>\n",
       "      <th>pts</th>\n",
       "      <th>reb</th>\n",
       "      <th>ast</th>\n",
       "      <th>net_rating</th>\n",
       "      <th>oreb_pct</th>\n",
       "      <th>dreb_pct</th>\n",
       "      <th>usg_pct</th>\n",
       "      <th>ts_pct</th>\n",
       "      <th>ast_pct</th>\n",
       "      <th>season</th>\n",
       "    </tr>\n",
       "  </thead>\n",
       "  <tbody>\n",
       "    <tr>\n",
       "      <th>0</th>\n",
       "      <td>0</td>\n",
       "      <td>Chris Robinson</td>\n",
       "      <td>VAN</td>\n",
       "      <td>23.0</td>\n",
       "      <td>195.58</td>\n",
       "      <td>90.71840</td>\n",
       "      <td>Western Kentucky</td>\n",
       "      <td>USA</td>\n",
       "      <td>1996</td>\n",
       "      <td>2</td>\n",
       "      <td>...</td>\n",
       "      <td>4.6</td>\n",
       "      <td>1.7</td>\n",
       "      <td>1.6</td>\n",
       "      <td>-11.4</td>\n",
       "      <td>0.039</td>\n",
       "      <td>0.088</td>\n",
       "      <td>0.155</td>\n",
       "      <td>0.486</td>\n",
       "      <td>0.156</td>\n",
       "      <td>1996-97</td>\n",
       "    </tr>\n",
       "    <tr>\n",
       "      <th>1</th>\n",
       "      <td>1</td>\n",
       "      <td>Matt Fish</td>\n",
       "      <td>MIA</td>\n",
       "      <td>27.0</td>\n",
       "      <td>210.82</td>\n",
       "      <td>106.59412</td>\n",
       "      <td>North Carolina-Wilmington</td>\n",
       "      <td>USA</td>\n",
       "      <td>1992</td>\n",
       "      <td>2</td>\n",
       "      <td>...</td>\n",
       "      <td>0.3</td>\n",
       "      <td>0.8</td>\n",
       "      <td>0.0</td>\n",
       "      <td>-15.1</td>\n",
       "      <td>0.143</td>\n",
       "      <td>0.267</td>\n",
       "      <td>0.265</td>\n",
       "      <td>0.333</td>\n",
       "      <td>0.000</td>\n",
       "      <td>1996-97</td>\n",
       "    </tr>\n",
       "    <tr>\n",
       "      <th>2</th>\n",
       "      <td>2</td>\n",
       "      <td>Matt Bullard</td>\n",
       "      <td>HOU</td>\n",
       "      <td>30.0</td>\n",
       "      <td>208.28</td>\n",
       "      <td>106.59412</td>\n",
       "      <td>Iowa</td>\n",
       "      <td>USA</td>\n",
       "      <td>Undrafted</td>\n",
       "      <td>Undrafted</td>\n",
       "      <td>...</td>\n",
       "      <td>4.5</td>\n",
       "      <td>1.6</td>\n",
       "      <td>0.9</td>\n",
       "      <td>0.9</td>\n",
       "      <td>0.016</td>\n",
       "      <td>0.115</td>\n",
       "      <td>0.151</td>\n",
       "      <td>0.535</td>\n",
       "      <td>0.099</td>\n",
       "      <td>1996-97</td>\n",
       "    </tr>\n",
       "    <tr>\n",
       "      <th>3</th>\n",
       "      <td>3</td>\n",
       "      <td>Marty Conlon</td>\n",
       "      <td>BOS</td>\n",
       "      <td>29.0</td>\n",
       "      <td>210.82</td>\n",
       "      <td>111.13004</td>\n",
       "      <td>Providence</td>\n",
       "      <td>USA</td>\n",
       "      <td>Undrafted</td>\n",
       "      <td>Undrafted</td>\n",
       "      <td>...</td>\n",
       "      <td>7.8</td>\n",
       "      <td>4.4</td>\n",
       "      <td>1.4</td>\n",
       "      <td>-9.0</td>\n",
       "      <td>0.083</td>\n",
       "      <td>0.152</td>\n",
       "      <td>0.167</td>\n",
       "      <td>0.542</td>\n",
       "      <td>0.101</td>\n",
       "      <td>1996-97</td>\n",
       "    </tr>\n",
       "    <tr>\n",
       "      <th>4</th>\n",
       "      <td>4</td>\n",
       "      <td>Martin Muursepp</td>\n",
       "      <td>DAL</td>\n",
       "      <td>22.0</td>\n",
       "      <td>205.74</td>\n",
       "      <td>106.59412</td>\n",
       "      <td>None</td>\n",
       "      <td>USA</td>\n",
       "      <td>1996</td>\n",
       "      <td>1</td>\n",
       "      <td>...</td>\n",
       "      <td>3.7</td>\n",
       "      <td>1.6</td>\n",
       "      <td>0.5</td>\n",
       "      <td>-14.5</td>\n",
       "      <td>0.109</td>\n",
       "      <td>0.118</td>\n",
       "      <td>0.233</td>\n",
       "      <td>0.482</td>\n",
       "      <td>0.114</td>\n",
       "      <td>1996-97</td>\n",
       "    </tr>\n",
       "  </tbody>\n",
       "</table>\n",
       "<p>5 rows × 22 columns</p>\n",
       "</div>"
      ],
      "text/plain": [
       "   Unnamed: 0      player_name team_abbreviation   age  player_height  \\\n",
       "0           0   Chris Robinson               VAN  23.0         195.58   \n",
       "1           1        Matt Fish               MIA  27.0         210.82   \n",
       "2           2     Matt Bullard               HOU  30.0         208.28   \n",
       "3           3     Marty Conlon               BOS  29.0         210.82   \n",
       "4           4  Martin Muursepp               DAL  22.0         205.74   \n",
       "\n",
       "   player_weight                    college country draft_year draft_round  \\\n",
       "0       90.71840           Western Kentucky     USA       1996           2   \n",
       "1      106.59412  North Carolina-Wilmington     USA       1992           2   \n",
       "2      106.59412                       Iowa     USA  Undrafted   Undrafted   \n",
       "3      111.13004                 Providence     USA  Undrafted   Undrafted   \n",
       "4      106.59412                       None     USA       1996           1   \n",
       "\n",
       "   ...  pts  reb  ast  net_rating  oreb_pct  dreb_pct  usg_pct  ts_pct  \\\n",
       "0  ...  4.6  1.7  1.6       -11.4     0.039     0.088    0.155   0.486   \n",
       "1  ...  0.3  0.8  0.0       -15.1     0.143     0.267    0.265   0.333   \n",
       "2  ...  4.5  1.6  0.9         0.9     0.016     0.115    0.151   0.535   \n",
       "3  ...  7.8  4.4  1.4        -9.0     0.083     0.152    0.167   0.542   \n",
       "4  ...  3.7  1.6  0.5       -14.5     0.109     0.118    0.233   0.482   \n",
       "\n",
       "   ast_pct   season  \n",
       "0    0.156  1996-97  \n",
       "1    0.000  1996-97  \n",
       "2    0.099  1996-97  \n",
       "3    0.101  1996-97  \n",
       "4    0.114  1996-97  \n",
       "\n",
       "[5 rows x 22 columns]"
      ]
     },
     "execution_count": 2,
     "metadata": {},
     "output_type": "execute_result"
    }
   ],
   "source": [
    "data = pd.read_csv('all_seasons.csv')\n",
    "data.head()"
   ]
  },
  {
   "cell_type": "code",
   "execution_count": 3,
   "metadata": {},
   "outputs": [
    {
     "data": {
      "text/plain": [
       "Index(['Unnamed: 0', 'player_name', 'team_abbreviation', 'age',\n",
       "       'player_height', 'player_weight', 'college', 'country', 'draft_year',\n",
       "       'draft_round', 'draft_number', 'gp', 'pts', 'reb', 'ast', 'net_rating',\n",
       "       'oreb_pct', 'dreb_pct', 'usg_pct', 'ts_pct', 'ast_pct', 'season'],\n",
       "      dtype='object')"
      ]
     },
     "execution_count": 3,
     "metadata": {},
     "output_type": "execute_result"
    }
   ],
   "source": [
    "data.columns"
   ]
  },
  {
   "cell_type": "code",
   "execution_count": 4,
   "metadata": {},
   "outputs": [],
   "source": [
    "df0 = data[['age', 'player_height', 'player_weight', 'pts', 'reb']]"
   ]
  },
  {
   "cell_type": "markdown",
   "metadata": {},
   "source": [
    "### MEMBUAT TARGET (sesuai syarat)"
   ]
  },
  {
   "cell_type": "code",
   "execution_count": 5,
   "metadata": {},
   "outputs": [
    {
     "name": "stderr",
     "output_type": "stream",
     "text": [
      "<ipython-input-5-650f4dffa8af>:7: SettingWithCopyWarning: \n",
      "A value is trying to be set on a copy of a slice from a DataFrame.\n",
      "Try using .loc[row_indexer,col_indexer] = value instead\n",
      "\n",
      "See the caveats in the documentation: http://pandas.pydata.org/pandas-docs/stable/user_guide/indexing.html#returning-a-view-versus-a-copy\n",
      "  df0['target']=df0.apply(targeted, axis=1)\n"
     ]
    }
   ],
   "source": [
    "def targeted (x):\n",
    "    if x['age']<= 25 and x['player_height']>= 180 and x['player_weight']<=90 and x['pts']>=6 and x['reb']>=3 :\n",
    "        return 1\n",
    "    else: \n",
    "        return 0\n",
    "    \n",
    "df0['target']=df0.apply(targeted, axis=1)"
   ]
  },
  {
   "cell_type": "code",
   "execution_count": 6,
   "metadata": {},
   "outputs": [
    {
     "data": {
      "text/html": [
       "<div>\n",
       "<style scoped>\n",
       "    .dataframe tbody tr th:only-of-type {\n",
       "        vertical-align: middle;\n",
       "    }\n",
       "\n",
       "    .dataframe tbody tr th {\n",
       "        vertical-align: top;\n",
       "    }\n",
       "\n",
       "    .dataframe thead th {\n",
       "        text-align: right;\n",
       "    }\n",
       "</style>\n",
       "<table border=\"1\" class=\"dataframe\">\n",
       "  <thead>\n",
       "    <tr style=\"text-align: right;\">\n",
       "      <th></th>\n",
       "      <th>age</th>\n",
       "      <th>player_height</th>\n",
       "      <th>player_weight</th>\n",
       "      <th>pts</th>\n",
       "      <th>reb</th>\n",
       "      <th>target</th>\n",
       "    </tr>\n",
       "  </thead>\n",
       "  <tbody>\n",
       "    <tr>\n",
       "      <th>105</th>\n",
       "      <td>23.0</td>\n",
       "      <td>195.58</td>\n",
       "      <td>81.192968</td>\n",
       "      <td>16.4</td>\n",
       "      <td>3.9</td>\n",
       "      <td>1</td>\n",
       "    </tr>\n",
       "    <tr>\n",
       "      <th>290</th>\n",
       "      <td>22.0</td>\n",
       "      <td>182.88</td>\n",
       "      <td>74.842680</td>\n",
       "      <td>23.5</td>\n",
       "      <td>4.1</td>\n",
       "      <td>1</td>\n",
       "    </tr>\n",
       "    <tr>\n",
       "      <th>432</th>\n",
       "      <td>25.0</td>\n",
       "      <td>198.12</td>\n",
       "      <td>86.182480</td>\n",
       "      <td>17.2</td>\n",
       "      <td>4.1</td>\n",
       "      <td>1</td>\n",
       "    </tr>\n",
       "    <tr>\n",
       "      <th>659</th>\n",
       "      <td>24.0</td>\n",
       "      <td>195.58</td>\n",
       "      <td>81.192968</td>\n",
       "      <td>17.2</td>\n",
       "      <td>4.7</td>\n",
       "      <td>1</td>\n",
       "    </tr>\n",
       "    <tr>\n",
       "      <th>835</th>\n",
       "      <td>23.0</td>\n",
       "      <td>182.88</td>\n",
       "      <td>74.842680</td>\n",
       "      <td>22.0</td>\n",
       "      <td>3.7</td>\n",
       "      <td>1</td>\n",
       "    </tr>\n",
       "  </tbody>\n",
       "</table>\n",
       "</div>"
      ],
      "text/plain": [
       "      age  player_height  player_weight   pts  reb  target\n",
       "105  23.0         195.58      81.192968  16.4  3.9       1\n",
       "290  22.0         182.88      74.842680  23.5  4.1       1\n",
       "432  25.0         198.12      86.182480  17.2  4.1       1\n",
       "659  24.0         195.58      81.192968  17.2  4.7       1\n",
       "835  23.0         182.88      74.842680  22.0  3.7       1"
      ]
     },
     "execution_count": 6,
     "metadata": {},
     "output_type": "execute_result"
    }
   ],
   "source": [
    "df0[df0['target']==1].head()"
   ]
  },
  {
   "cell_type": "markdown",
   "metadata": {},
   "source": [
    "#### MEMERIKSA NULL"
   ]
  },
  {
   "cell_type": "code",
   "execution_count": 7,
   "metadata": {},
   "outputs": [
    {
     "data": {
      "text/plain": [
       "age              0\n",
       "player_height    0\n",
       "player_weight    0\n",
       "pts              0\n",
       "reb              0\n",
       "target           0\n",
       "dtype: int64"
      ]
     },
     "execution_count": 7,
     "metadata": {},
     "output_type": "execute_result"
    }
   ],
   "source": [
    "df0.isnull().sum()"
   ]
  },
  {
   "cell_type": "markdown",
   "metadata": {},
   "source": [
    "## Standardisasi"
   ]
  },
  {
   "cell_type": "code",
   "execution_count": 40,
   "metadata": {},
   "outputs": [
    {
     "data": {
      "text/html": [
       "<div>\n",
       "<style scoped>\n",
       "    .dataframe tbody tr th:only-of-type {\n",
       "        vertical-align: middle;\n",
       "    }\n",
       "\n",
       "    .dataframe tbody tr th {\n",
       "        vertical-align: top;\n",
       "    }\n",
       "\n",
       "    .dataframe thead th {\n",
       "        text-align: right;\n",
       "    }\n",
       "</style>\n",
       "<table border=\"1\" class=\"dataframe\">\n",
       "  <thead>\n",
       "    <tr style=\"text-align: right;\">\n",
       "      <th></th>\n",
       "      <th>age</th>\n",
       "      <th>height</th>\n",
       "      <th>weight</th>\n",
       "      <th>pts</th>\n",
       "      <th>reb</th>\n",
       "      <th>target</th>\n",
       "    </tr>\n",
       "  </thead>\n",
       "  <tbody>\n",
       "    <tr>\n",
       "      <th>0</th>\n",
       "      <td>-0.996742</td>\n",
       "      <td>-0.578993</td>\n",
       "      <td>-0.802604</td>\n",
       "      <td>-0.589390</td>\n",
       "      <td>-0.747850</td>\n",
       "      <td>0</td>\n",
       "    </tr>\n",
       "    <tr>\n",
       "      <th>1</th>\n",
       "      <td>-0.077272</td>\n",
       "      <td>1.063130</td>\n",
       "      <td>0.439607</td>\n",
       "      <td>-1.319614</td>\n",
       "      <td>-1.108712</td>\n",
       "      <td>0</td>\n",
       "    </tr>\n",
       "    <tr>\n",
       "      <th>2</th>\n",
       "      <td>0.612331</td>\n",
       "      <td>0.789443</td>\n",
       "      <td>0.439607</td>\n",
       "      <td>-0.606372</td>\n",
       "      <td>-0.787946</td>\n",
       "      <td>0</td>\n",
       "    </tr>\n",
       "    <tr>\n",
       "      <th>3</th>\n",
       "      <td>0.382463</td>\n",
       "      <td>1.063130</td>\n",
       "      <td>0.794524</td>\n",
       "      <td>-0.045967</td>\n",
       "      <td>0.334735</td>\n",
       "      <td>0</td>\n",
       "    </tr>\n",
       "    <tr>\n",
       "      <th>4</th>\n",
       "      <td>-1.226609</td>\n",
       "      <td>0.515755</td>\n",
       "      <td>0.439607</td>\n",
       "      <td>-0.742228</td>\n",
       "      <td>-0.787946</td>\n",
       "      <td>0</td>\n",
       "    </tr>\n",
       "  </tbody>\n",
       "</table>\n",
       "</div>"
      ],
      "text/plain": [
       "        age    height    weight       pts       reb  target\n",
       "0 -0.996742 -0.578993 -0.802604 -0.589390 -0.747850       0\n",
       "1 -0.077272  1.063130  0.439607 -1.319614 -1.108712       0\n",
       "2  0.612331  0.789443  0.439607 -0.606372 -0.787946       0\n",
       "3  0.382463  1.063130  0.794524 -0.045967  0.334735       0\n",
       "4 -1.226609  0.515755  0.439607 -0.742228 -0.787946       0"
      ]
     },
     "execution_count": 40,
     "metadata": {},
     "output_type": "execute_result"
    }
   ],
   "source": [
    "from sklearn.preprocessing import StandardScaler \n",
    "scaler = StandardScaler()\n",
    "\n",
    "scaler.fit(df0[['age', 'player_height', 'player_weight', 'pts', 'reb']])\n",
    "df= pd.DataFrame(scaler.transform(df0[['age', 'player_height', 'player_weight', 'pts', 'reb']]), columns = ['age', 'height', 'weight', 'pts', 'reb'])\n",
    "df['target'] = df0['target']\n",
    "\n",
    "df.head()"
   ]
  },
  {
   "cell_type": "markdown",
   "metadata": {},
   "source": [
    "## Splitting Data"
   ]
  },
  {
   "cell_type": "code",
   "execution_count": 41,
   "metadata": {},
   "outputs": [
    {
     "data": {
      "text/html": [
       "<div>\n",
       "<style scoped>\n",
       "    .dataframe tbody tr th:only-of-type {\n",
       "        vertical-align: middle;\n",
       "    }\n",
       "\n",
       "    .dataframe tbody tr th {\n",
       "        vertical-align: top;\n",
       "    }\n",
       "\n",
       "    .dataframe thead th {\n",
       "        text-align: right;\n",
       "    }\n",
       "</style>\n",
       "<table border=\"1\" class=\"dataframe\">\n",
       "  <thead>\n",
       "    <tr style=\"text-align: right;\">\n",
       "      <th></th>\n",
       "      <th>age</th>\n",
       "      <th>height</th>\n",
       "      <th>weight</th>\n",
       "      <th>pts</th>\n",
       "      <th>reb</th>\n",
       "    </tr>\n",
       "  </thead>\n",
       "  <tbody>\n",
       "    <tr>\n",
       "      <th>7776</th>\n",
       "      <td>-0.996742</td>\n",
       "      <td>-0.031619</td>\n",
       "      <td>-0.092769</td>\n",
       "      <td>-0.232769</td>\n",
       "      <td>-0.146414</td>\n",
       "    </tr>\n",
       "    <tr>\n",
       "      <th>4581</th>\n",
       "      <td>-0.766874</td>\n",
       "      <td>-1.400054</td>\n",
       "      <td>-0.980063</td>\n",
       "      <td>-1.370560</td>\n",
       "      <td>-1.028520</td>\n",
       "    </tr>\n",
       "    <tr>\n",
       "      <th>1928</th>\n",
       "      <td>1.301934</td>\n",
       "      <td>-1.126367</td>\n",
       "      <td>-0.980063</td>\n",
       "      <td>-0.572408</td>\n",
       "      <td>-0.386988</td>\n",
       "    </tr>\n",
       "    <tr>\n",
       "      <th>1538</th>\n",
       "      <td>-1.226609</td>\n",
       "      <td>-0.031619</td>\n",
       "      <td>-0.270228</td>\n",
       "      <td>0.361600</td>\n",
       "      <td>1.176746</td>\n",
       "    </tr>\n",
       "    <tr>\n",
       "      <th>8389</th>\n",
       "      <td>0.382463</td>\n",
       "      <td>-0.305306</td>\n",
       "      <td>0.084689</td>\n",
       "      <td>0.684257</td>\n",
       "      <td>-0.186510</td>\n",
       "    </tr>\n",
       "    <tr>\n",
       "      <th>...</th>\n",
       "      <td>...</td>\n",
       "      <td>...</td>\n",
       "      <td>...</td>\n",
       "      <td>...</td>\n",
       "      <td>...</td>\n",
       "    </tr>\n",
       "    <tr>\n",
       "      <th>6383</th>\n",
       "      <td>1.531801</td>\n",
       "      <td>-0.305306</td>\n",
       "      <td>-0.092769</td>\n",
       "      <td>1.006914</td>\n",
       "      <td>0.094161</td>\n",
       "    </tr>\n",
       "    <tr>\n",
       "      <th>3836</th>\n",
       "      <td>1.531801</td>\n",
       "      <td>-0.031619</td>\n",
       "      <td>-0.270228</td>\n",
       "      <td>-0.555426</td>\n",
       "      <td>-0.948329</td>\n",
       "    </tr>\n",
       "    <tr>\n",
       "      <th>2584</th>\n",
       "      <td>1.072066</td>\n",
       "      <td>0.789443</td>\n",
       "      <td>0.617065</td>\n",
       "      <td>-0.266733</td>\n",
       "      <td>0.575310</td>\n",
       "    </tr>\n",
       "    <tr>\n",
       "      <th>7612</th>\n",
       "      <td>0.152596</td>\n",
       "      <td>0.515755</td>\n",
       "      <td>0.084689</td>\n",
       "      <td>-0.012003</td>\n",
       "      <td>0.695597</td>\n",
       "    </tr>\n",
       "    <tr>\n",
       "      <th>8659</th>\n",
       "      <td>1.991536</td>\n",
       "      <td>0.515755</td>\n",
       "      <td>0.617065</td>\n",
       "      <td>0.106870</td>\n",
       "      <td>0.495118</td>\n",
       "    </tr>\n",
       "  </tbody>\n",
       "</table>\n",
       "<p>1721 rows × 5 columns</p>\n",
       "</div>"
      ],
      "text/plain": [
       "           age    height    weight       pts       reb\n",
       "7776 -0.996742 -0.031619 -0.092769 -0.232769 -0.146414\n",
       "4581 -0.766874 -1.400054 -0.980063 -1.370560 -1.028520\n",
       "1928  1.301934 -1.126367 -0.980063 -0.572408 -0.386988\n",
       "1538 -1.226609 -0.031619 -0.270228  0.361600  1.176746\n",
       "8389  0.382463 -0.305306  0.084689  0.684257 -0.186510\n",
       "...        ...       ...       ...       ...       ...\n",
       "6383  1.531801 -0.305306 -0.092769  1.006914  0.094161\n",
       "3836  1.531801 -0.031619 -0.270228 -0.555426 -0.948329\n",
       "2584  1.072066  0.789443  0.617065 -0.266733  0.575310\n",
       "7612  0.152596  0.515755  0.084689 -0.012003  0.695597\n",
       "8659  1.991536  0.515755  0.617065  0.106870  0.495118\n",
       "\n",
       "[1721 rows x 5 columns]"
      ]
     },
     "execution_count": 41,
     "metadata": {},
     "output_type": "execute_result"
    }
   ],
   "source": [
    "from sklearn.model_selection import train_test_split \n",
    "xtr, xts, ytr, yts = train_test_split(df[['age', 'height', 'weight', 'pts', 'reb']],\n",
    "                                     df['target'], test_size = .18 \n",
    "                                     )\n",
    "\n",
    "xts"
   ]
  },
  {
   "cell_type": "code",
   "execution_count": 42,
   "metadata": {},
   "outputs": [
    {
     "data": {
      "text/html": [
       "<div>\n",
       "<style scoped>\n",
       "    .dataframe tbody tr th:only-of-type {\n",
       "        vertical-align: middle;\n",
       "    }\n",
       "\n",
       "    .dataframe tbody tr th {\n",
       "        vertical-align: top;\n",
       "    }\n",
       "\n",
       "    .dataframe thead th {\n",
       "        text-align: right;\n",
       "    }\n",
       "</style>\n",
       "<table border=\"1\" class=\"dataframe\">\n",
       "  <thead>\n",
       "    <tr style=\"text-align: right;\">\n",
       "      <th></th>\n",
       "      <th>age</th>\n",
       "      <th>height</th>\n",
       "      <th>weight</th>\n",
       "      <th>pts</th>\n",
       "      <th>reb</th>\n",
       "      <th>target</th>\n",
       "    </tr>\n",
       "  </thead>\n",
       "  <tbody>\n",
       "    <tr>\n",
       "      <th>7776</th>\n",
       "      <td>-0.996742</td>\n",
       "      <td>-0.031619</td>\n",
       "      <td>-0.092769</td>\n",
       "      <td>-0.232769</td>\n",
       "      <td>-0.146414</td>\n",
       "      <td>0</td>\n",
       "    </tr>\n",
       "    <tr>\n",
       "      <th>4581</th>\n",
       "      <td>-0.766874</td>\n",
       "      <td>-1.400054</td>\n",
       "      <td>-0.980063</td>\n",
       "      <td>-1.370560</td>\n",
       "      <td>-1.028520</td>\n",
       "      <td>0</td>\n",
       "    </tr>\n",
       "    <tr>\n",
       "      <th>1928</th>\n",
       "      <td>1.301934</td>\n",
       "      <td>-1.126367</td>\n",
       "      <td>-0.980063</td>\n",
       "      <td>-0.572408</td>\n",
       "      <td>-0.386988</td>\n",
       "      <td>0</td>\n",
       "    </tr>\n",
       "    <tr>\n",
       "      <th>1538</th>\n",
       "      <td>-1.226609</td>\n",
       "      <td>-0.031619</td>\n",
       "      <td>-0.270228</td>\n",
       "      <td>0.361600</td>\n",
       "      <td>1.176746</td>\n",
       "      <td>0</td>\n",
       "    </tr>\n",
       "    <tr>\n",
       "      <th>8389</th>\n",
       "      <td>0.382463</td>\n",
       "      <td>-0.305306</td>\n",
       "      <td>0.084689</td>\n",
       "      <td>0.684257</td>\n",
       "      <td>-0.186510</td>\n",
       "      <td>0</td>\n",
       "    </tr>\n",
       "  </tbody>\n",
       "</table>\n",
       "</div>"
      ],
      "text/plain": [
       "           age    height    weight       pts       reb  target\n",
       "7776 -0.996742 -0.031619 -0.092769 -0.232769 -0.146414       0\n",
       "4581 -0.766874 -1.400054 -0.980063 -1.370560 -1.028520       0\n",
       "1928  1.301934 -1.126367 -0.980063 -0.572408 -0.386988       0\n",
       "1538 -1.226609 -0.031619 -0.270228  0.361600  1.176746       0\n",
       "8389  0.382463 -0.305306  0.084689  0.684257 -0.186510       0"
      ]
     },
     "execution_count": 42,
     "metadata": {},
     "output_type": "execute_result"
    }
   ],
   "source": [
    "dftest = pd.DataFrame(xts)\n",
    "dftest['target'] = yts\n",
    "dftest.head(5)"
   ]
  },
  {
   "cell_type": "markdown",
   "metadata": {},
   "source": [
    "## Hyper-Parameter Tuning"
   ]
  },
  {
   "cell_type": "code",
   "execution_count": 43,
   "metadata": {},
   "outputs": [],
   "source": [
    "from sklearn.model_selection import RandomizedSearchCV\n",
    "from sklearn.model_selection import GridSearchCV"
   ]
  },
  {
   "cell_type": "markdown",
   "metadata": {},
   "source": [
    "#### 1. Hyper Parameter Tuning Logistic Regression Model"
   ]
  },
  {
   "cell_type": "code",
   "execution_count": 44,
   "metadata": {},
   "outputs": [],
   "source": [
    "from sklearn.linear_model import LogisticRegression"
   ]
  },
  {
   "cell_type": "code",
   "execution_count": 45,
   "metadata": {},
   "outputs": [],
   "source": [
    "modellog = LogisticRegression()"
   ]
  },
  {
   "cell_type": "code",
   "execution_count": 46,
   "metadata": {},
   "outputs": [],
   "source": [
    "penalty = ['l1', 'l2', 'elasticnet', 'none']\n",
    "solver = ['newton-cg', 'lbfgs', 'liblinear', 'sag', 'saga']\n",
    "max_iter= [1, 10, 100, 1000, 10000]\n",
    "multi_class=['auto', 'ovr', 'multinomial']\n",
    "\n",
    "paramlog = {\n",
    "    'penalty': penalty,\n",
    "    'solver':solver,\n",
    "    'max_iter':max_iter,\n",
    "    'multi_class':multi_class\n",
    "}"
   ]
  },
  {
   "cell_type": "code",
   "execution_count": 47,
   "metadata": {},
   "outputs": [
    {
     "name": "stderr",
     "output_type": "stream",
     "text": [
      "c:\\users\\user1\\appdata\\local\\programs\\python\\python38-32\\lib\\site-packages\\sklearn\\utils\\optimize.py:211: ConvergenceWarning: newton-cg failed to converge. Increase the number of iterations.\n",
      "  warnings.warn(\"newton-cg failed to converge. Increase the \"\n",
      "c:\\users\\user1\\appdata\\local\\programs\\python\\python38-32\\lib\\site-packages\\sklearn\\utils\\optimize.py:211: ConvergenceWarning: newton-cg failed to converge. Increase the number of iterations.\n",
      "  warnings.warn(\"newton-cg failed to converge. Increase the \"\n",
      "c:\\users\\user1\\appdata\\local\\programs\\python\\python38-32\\lib\\site-packages\\sklearn\\utils\\optimize.py:211: ConvergenceWarning: newton-cg failed to converge. Increase the number of iterations.\n",
      "  warnings.warn(\"newton-cg failed to converge. Increase the \"\n",
      "c:\\users\\user1\\appdata\\local\\programs\\python\\python38-32\\lib\\site-packages\\sklearn\\utils\\optimize.py:211: ConvergenceWarning: newton-cg failed to converge. Increase the number of iterations.\n",
      "  warnings.warn(\"newton-cg failed to converge. Increase the \"\n",
      "c:\\users\\user1\\appdata\\local\\programs\\python\\python38-32\\lib\\site-packages\\sklearn\\utils\\optimize.py:211: ConvergenceWarning: newton-cg failed to converge. Increase the number of iterations.\n",
      "  warnings.warn(\"newton-cg failed to converge. Increase the \"\n",
      "c:\\users\\user1\\appdata\\local\\programs\\python\\python38-32\\lib\\site-packages\\sklearn\\model_selection\\_validation.py:532: FitFailedWarning: Estimator fit failed. The score on this train-test partition for these parameters will be set to nan. Details: \n",
      "ValueError: penalty='none' is not supported for the liblinear solver\n",
      "\n",
      "  warnings.warn(\"Estimator fit failed. The score on this train-test\"\n",
      "c:\\users\\user1\\appdata\\local\\programs\\python\\python38-32\\lib\\site-packages\\sklearn\\model_selection\\_validation.py:532: FitFailedWarning: Estimator fit failed. The score on this train-test partition for these parameters will be set to nan. Details: \n",
      "ValueError: Solver sag supports only 'l2' or 'none' penalties, got l1 penalty.\n",
      "\n",
      "  warnings.warn(\"Estimator fit failed. The score on this train-test\"\n",
      "c:\\users\\user1\\appdata\\local\\programs\\python\\python38-32\\lib\\site-packages\\sklearn\\model_selection\\_validation.py:532: FitFailedWarning: Estimator fit failed. The score on this train-test partition for these parameters will be set to nan. Details: \n",
      "ValueError: Solver lbfgs supports only 'l2' or 'none' penalties, got l1 penalty.\n",
      "\n",
      "  warnings.warn(\"Estimator fit failed. The score on this train-test\"\n"
     ]
    },
    {
     "data": {
      "text/plain": [
       "{'solver': 'liblinear', 'penalty': 'l2', 'multi_class': 'ovr', 'max_iter': 100}"
      ]
     },
     "execution_count": 47,
     "metadata": {},
     "output_type": "execute_result"
    }
   ],
   "source": [
    "modelrs1 = RandomizedSearchCV(\n",
    "    estimator = modellog, param_distributions = paramlog, cv = 5)\n",
    "modelrs1.fit(xtr, ytr)\n",
    "modelrs1.best_params_"
   ]
  },
  {
   "cell_type": "markdown",
   "metadata": {},
   "source": [
    "#### 2. Hyper Parameter Tuning Random Forest Model"
   ]
  },
  {
   "cell_type": "code",
   "execution_count": 48,
   "metadata": {},
   "outputs": [],
   "source": [
    "from sklearn import tree\n",
    "from sklearn.ensemble import RandomForestClassifier"
   ]
  },
  {
   "cell_type": "code",
   "execution_count": 49,
   "metadata": {},
   "outputs": [
    {
     "data": {
      "text/plain": [
       "{'n_estimators': 100, 'max_features': 'log2'}"
      ]
     },
     "execution_count": 49,
     "metadata": {},
     "output_type": "execute_result"
    }
   ],
   "source": [
    "modelrf= RandomForestClassifier()\n",
    "\n",
    "paramrf = {'n_estimators': [100, 200, 250, 300, 400, 500],\n",
    "    'max_features': ['sqrt', 'log2']}\n",
    "\n",
    "modelcvrf = RandomForestClassifier()\n",
    "modelcvrf= RandomizedSearchCV(\n",
    "    estimator = modelrf, param_distributions = paramrf, cv = 5)\n",
    "\n",
    "modelcvrf.fit(xtr, ytr)\n",
    "modelcvrf.best_params_"
   ]
  },
  {
   "cell_type": "markdown",
   "metadata": {},
   "source": [
    "#### 3. Hyper Parameter Tuning K-Nearest Neighbors"
   ]
  },
  {
   "cell_type": "code",
   "execution_count": 50,
   "metadata": {},
   "outputs": [],
   "source": [
    "from sklearn.neighbors import KNeighborsClassifier\n",
    "k = round((len(xtr))**0.5)+1\n",
    "\n",
    "paramk = {'n_neighbors' : range(k-round(k/2) , k*2), \n",
    "         'weights' : ['uniform', 'distance']}"
   ]
  },
  {
   "cell_type": "code",
   "execution_count": 52,
   "metadata": {},
   "outputs": [
    {
     "data": {
      "text/plain": [
       "{'weights': 'distance', 'n_neighbors': 61}"
      ]
     },
     "execution_count": 52,
     "metadata": {},
     "output_type": "execute_result"
    }
   ],
   "source": [
    "modelk = KNeighborsClassifier()\n",
    "modelcvk= RandomizedSearchCV(\n",
    "    estimator = modelk, param_distributions = paramk, cv = 5)\n",
    "modelcvk.fit(xtr, ytr)\n",
    "modelcvk.best_params_"
   ]
  },
  {
   "cell_type": "markdown",
   "metadata": {},
   "source": [
    "## MODELLING"
   ]
  },
  {
   "cell_type": "markdown",
   "metadata": {},
   "source": [
    "#### 1. Logistic Regression"
   ]
  },
  {
   "cell_type": "code",
   "execution_count": 54,
   "metadata": {},
   "outputs": [
    {
     "data": {
      "text/plain": [
       "LogisticRegression(C=1.0, class_weight=None, dual=False, fit_intercept=True,\n",
       "                   intercept_scaling=1, l1_ratio=None, max_iter=100,\n",
       "                   multi_class='ovr', n_jobs=None, penalty='l2',\n",
       "                   random_state=None, solver='liblinear', tol=0.0001, verbose=0,\n",
       "                   warm_start=False)"
      ]
     },
     "execution_count": 54,
     "metadata": {},
     "output_type": "execute_result"
    }
   ],
   "source": [
    "modelLog = LogisticRegression(solver='liblinear', penalty= 'l2', multi_class= 'ovr', max_iter= 100)\n",
    "modelLog.fit(xtr, ytr)"
   ]
  },
  {
   "cell_type": "code",
   "execution_count": 56,
   "metadata": {},
   "outputs": [
    {
     "data": {
      "text/html": [
       "<div>\n",
       "<style scoped>\n",
       "    .dataframe tbody tr th:only-of-type {\n",
       "        vertical-align: middle;\n",
       "    }\n",
       "\n",
       "    .dataframe tbody tr th {\n",
       "        vertical-align: top;\n",
       "    }\n",
       "\n",
       "    .dataframe thead th {\n",
       "        text-align: right;\n",
       "    }\n",
       "</style>\n",
       "<table border=\"1\" class=\"dataframe\">\n",
       "  <thead>\n",
       "    <tr style=\"text-align: right;\">\n",
       "      <th></th>\n",
       "      <th>age</th>\n",
       "      <th>height</th>\n",
       "      <th>weight</th>\n",
       "      <th>pts</th>\n",
       "      <th>reb</th>\n",
       "      <th>target</th>\n",
       "      <th>yLog</th>\n",
       "    </tr>\n",
       "  </thead>\n",
       "  <tbody>\n",
       "    <tr>\n",
       "      <th>7776</th>\n",
       "      <td>-0.996742</td>\n",
       "      <td>-0.031619</td>\n",
       "      <td>-0.092769</td>\n",
       "      <td>-0.232769</td>\n",
       "      <td>-0.146414</td>\n",
       "      <td>0</td>\n",
       "      <td>0</td>\n",
       "    </tr>\n",
       "    <tr>\n",
       "      <th>4581</th>\n",
       "      <td>-0.766874</td>\n",
       "      <td>-1.400054</td>\n",
       "      <td>-0.980063</td>\n",
       "      <td>-1.370560</td>\n",
       "      <td>-1.028520</td>\n",
       "      <td>0</td>\n",
       "      <td>0</td>\n",
       "    </tr>\n",
       "    <tr>\n",
       "      <th>1928</th>\n",
       "      <td>1.301934</td>\n",
       "      <td>-1.126367</td>\n",
       "      <td>-0.980063</td>\n",
       "      <td>-0.572408</td>\n",
       "      <td>-0.386988</td>\n",
       "      <td>0</td>\n",
       "      <td>0</td>\n",
       "    </tr>\n",
       "    <tr>\n",
       "      <th>1538</th>\n",
       "      <td>-1.226609</td>\n",
       "      <td>-0.031619</td>\n",
       "      <td>-0.270228</td>\n",
       "      <td>0.361600</td>\n",
       "      <td>1.176746</td>\n",
       "      <td>0</td>\n",
       "      <td>0</td>\n",
       "    </tr>\n",
       "    <tr>\n",
       "      <th>8389</th>\n",
       "      <td>0.382463</td>\n",
       "      <td>-0.305306</td>\n",
       "      <td>0.084689</td>\n",
       "      <td>0.684257</td>\n",
       "      <td>-0.186510</td>\n",
       "      <td>0</td>\n",
       "      <td>0</td>\n",
       "    </tr>\n",
       "  </tbody>\n",
       "</table>\n",
       "</div>"
      ],
      "text/plain": [
       "           age    height    weight       pts       reb  target  yLog\n",
       "7776 -0.996742 -0.031619 -0.092769 -0.232769 -0.146414       0     0\n",
       "4581 -0.766874 -1.400054 -0.980063 -1.370560 -1.028520       0     0\n",
       "1928  1.301934 -1.126367 -0.980063 -0.572408 -0.386988       0     0\n",
       "1538 -1.226609 -0.031619 -0.270228  0.361600  1.176746       0     0\n",
       "8389  0.382463 -0.305306  0.084689  0.684257 -0.186510       0     0"
      ]
     },
     "execution_count": 56,
     "metadata": {},
     "output_type": "execute_result"
    }
   ],
   "source": [
    "dftest['yLog'] = modelLog.predict(dftest[['age', 'height', 'weight', 'pts', 'reb']])\n",
    "dftest.head()"
   ]
  },
  {
   "cell_type": "markdown",
   "metadata": {},
   "source": [
    "#### 2. Random Forest"
   ]
  },
  {
   "cell_type": "code",
   "execution_count": 57,
   "metadata": {},
   "outputs": [
    {
     "data": {
      "text/plain": [
       "RandomForestClassifier(bootstrap=True, ccp_alpha=0.0, class_weight=None,\n",
       "                       criterion='gini', max_depth=None, max_features='log2',\n",
       "                       max_leaf_nodes=None, max_samples=None,\n",
       "                       min_impurity_decrease=0.0, min_impurity_split=None,\n",
       "                       min_samples_leaf=1, min_samples_split=2,\n",
       "                       min_weight_fraction_leaf=0.0, n_estimators=100,\n",
       "                       n_jobs=None, oob_score=False, random_state=None,\n",
       "                       verbose=0, warm_start=False)"
      ]
     },
     "execution_count": 57,
     "metadata": {},
     "output_type": "execute_result"
    }
   ],
   "source": [
    "modelRand = RandomForestClassifier(n_estimators= 100, max_features= 'log2')\n",
    "modelRand.fit(xtr, ytr)"
   ]
  },
  {
   "cell_type": "code",
   "execution_count": 58,
   "metadata": {},
   "outputs": [
    {
     "data": {
      "text/html": [
       "<div>\n",
       "<style scoped>\n",
       "    .dataframe tbody tr th:only-of-type {\n",
       "        vertical-align: middle;\n",
       "    }\n",
       "\n",
       "    .dataframe tbody tr th {\n",
       "        vertical-align: top;\n",
       "    }\n",
       "\n",
       "    .dataframe thead th {\n",
       "        text-align: right;\n",
       "    }\n",
       "</style>\n",
       "<table border=\"1\" class=\"dataframe\">\n",
       "  <thead>\n",
       "    <tr style=\"text-align: right;\">\n",
       "      <th></th>\n",
       "      <th>age</th>\n",
       "      <th>height</th>\n",
       "      <th>weight</th>\n",
       "      <th>pts</th>\n",
       "      <th>reb</th>\n",
       "      <th>target</th>\n",
       "      <th>yLog</th>\n",
       "      <th>yRand</th>\n",
       "    </tr>\n",
       "  </thead>\n",
       "  <tbody>\n",
       "    <tr>\n",
       "      <th>7776</th>\n",
       "      <td>-0.996742</td>\n",
       "      <td>-0.031619</td>\n",
       "      <td>-0.092769</td>\n",
       "      <td>-0.232769</td>\n",
       "      <td>-0.146414</td>\n",
       "      <td>0</td>\n",
       "      <td>0</td>\n",
       "      <td>0</td>\n",
       "    </tr>\n",
       "    <tr>\n",
       "      <th>4581</th>\n",
       "      <td>-0.766874</td>\n",
       "      <td>-1.400054</td>\n",
       "      <td>-0.980063</td>\n",
       "      <td>-1.370560</td>\n",
       "      <td>-1.028520</td>\n",
       "      <td>0</td>\n",
       "      <td>0</td>\n",
       "      <td>0</td>\n",
       "    </tr>\n",
       "    <tr>\n",
       "      <th>1928</th>\n",
       "      <td>1.301934</td>\n",
       "      <td>-1.126367</td>\n",
       "      <td>-0.980063</td>\n",
       "      <td>-0.572408</td>\n",
       "      <td>-0.386988</td>\n",
       "      <td>0</td>\n",
       "      <td>0</td>\n",
       "      <td>0</td>\n",
       "    </tr>\n",
       "    <tr>\n",
       "      <th>1538</th>\n",
       "      <td>-1.226609</td>\n",
       "      <td>-0.031619</td>\n",
       "      <td>-0.270228</td>\n",
       "      <td>0.361600</td>\n",
       "      <td>1.176746</td>\n",
       "      <td>0</td>\n",
       "      <td>0</td>\n",
       "      <td>0</td>\n",
       "    </tr>\n",
       "    <tr>\n",
       "      <th>8389</th>\n",
       "      <td>0.382463</td>\n",
       "      <td>-0.305306</td>\n",
       "      <td>0.084689</td>\n",
       "      <td>0.684257</td>\n",
       "      <td>-0.186510</td>\n",
       "      <td>0</td>\n",
       "      <td>0</td>\n",
       "      <td>0</td>\n",
       "    </tr>\n",
       "  </tbody>\n",
       "</table>\n",
       "</div>"
      ],
      "text/plain": [
       "           age    height    weight       pts       reb  target  yLog  yRand\n",
       "7776 -0.996742 -0.031619 -0.092769 -0.232769 -0.146414       0     0      0\n",
       "4581 -0.766874 -1.400054 -0.980063 -1.370560 -1.028520       0     0      0\n",
       "1928  1.301934 -1.126367 -0.980063 -0.572408 -0.386988       0     0      0\n",
       "1538 -1.226609 -0.031619 -0.270228  0.361600  1.176746       0     0      0\n",
       "8389  0.382463 -0.305306  0.084689  0.684257 -0.186510       0     0      0"
      ]
     },
     "execution_count": 58,
     "metadata": {},
     "output_type": "execute_result"
    }
   ],
   "source": [
    "dftest['yRand'] = modelRand.predict(dftest[['age', 'height', 'weight', 'pts', 'reb']])\n",
    "dftest.head()"
   ]
  },
  {
   "cell_type": "markdown",
   "metadata": {},
   "source": [
    "#### 3. KNN"
   ]
  },
  {
   "cell_type": "code",
   "execution_count": 59,
   "metadata": {},
   "outputs": [
    {
     "data": {
      "text/plain": [
       "KNeighborsClassifier(algorithm='auto', leaf_size=30, metric='minkowski',\n",
       "                     metric_params=None, n_jobs=None, n_neighbors=61, p=2,\n",
       "                     weights='distance')"
      ]
     },
     "execution_count": 59,
     "metadata": {},
     "output_type": "execute_result"
    }
   ],
   "source": [
    "modelKNN = KNeighborsClassifier(weights= 'distance', n_neighbors= 61)\n",
    "modelKNN.fit(xtr, ytr)"
   ]
  },
  {
   "cell_type": "code",
   "execution_count": 60,
   "metadata": {},
   "outputs": [
    {
     "data": {
      "text/html": [
       "<div>\n",
       "<style scoped>\n",
       "    .dataframe tbody tr th:only-of-type {\n",
       "        vertical-align: middle;\n",
       "    }\n",
       "\n",
       "    .dataframe tbody tr th {\n",
       "        vertical-align: top;\n",
       "    }\n",
       "\n",
       "    .dataframe thead th {\n",
       "        text-align: right;\n",
       "    }\n",
       "</style>\n",
       "<table border=\"1\" class=\"dataframe\">\n",
       "  <thead>\n",
       "    <tr style=\"text-align: right;\">\n",
       "      <th></th>\n",
       "      <th>age</th>\n",
       "      <th>height</th>\n",
       "      <th>weight</th>\n",
       "      <th>pts</th>\n",
       "      <th>reb</th>\n",
       "      <th>target</th>\n",
       "      <th>yLog</th>\n",
       "      <th>yRand</th>\n",
       "      <th>yKNN</th>\n",
       "    </tr>\n",
       "  </thead>\n",
       "  <tbody>\n",
       "    <tr>\n",
       "      <th>7776</th>\n",
       "      <td>-0.996742</td>\n",
       "      <td>-0.031619</td>\n",
       "      <td>-0.092769</td>\n",
       "      <td>-0.232769</td>\n",
       "      <td>-0.146414</td>\n",
       "      <td>0</td>\n",
       "      <td>0</td>\n",
       "      <td>0</td>\n",
       "      <td>0</td>\n",
       "    </tr>\n",
       "    <tr>\n",
       "      <th>4581</th>\n",
       "      <td>-0.766874</td>\n",
       "      <td>-1.400054</td>\n",
       "      <td>-0.980063</td>\n",
       "      <td>-1.370560</td>\n",
       "      <td>-1.028520</td>\n",
       "      <td>0</td>\n",
       "      <td>0</td>\n",
       "      <td>0</td>\n",
       "      <td>0</td>\n",
       "    </tr>\n",
       "    <tr>\n",
       "      <th>1928</th>\n",
       "      <td>1.301934</td>\n",
       "      <td>-1.126367</td>\n",
       "      <td>-0.980063</td>\n",
       "      <td>-0.572408</td>\n",
       "      <td>-0.386988</td>\n",
       "      <td>0</td>\n",
       "      <td>0</td>\n",
       "      <td>0</td>\n",
       "      <td>0</td>\n",
       "    </tr>\n",
       "    <tr>\n",
       "      <th>1538</th>\n",
       "      <td>-1.226609</td>\n",
       "      <td>-0.031619</td>\n",
       "      <td>-0.270228</td>\n",
       "      <td>0.361600</td>\n",
       "      <td>1.176746</td>\n",
       "      <td>0</td>\n",
       "      <td>0</td>\n",
       "      <td>0</td>\n",
       "      <td>0</td>\n",
       "    </tr>\n",
       "    <tr>\n",
       "      <th>8389</th>\n",
       "      <td>0.382463</td>\n",
       "      <td>-0.305306</td>\n",
       "      <td>0.084689</td>\n",
       "      <td>0.684257</td>\n",
       "      <td>-0.186510</td>\n",
       "      <td>0</td>\n",
       "      <td>0</td>\n",
       "      <td>0</td>\n",
       "      <td>0</td>\n",
       "    </tr>\n",
       "  </tbody>\n",
       "</table>\n",
       "</div>"
      ],
      "text/plain": [
       "           age    height    weight       pts       reb  target  yLog  yRand  \\\n",
       "7776 -0.996742 -0.031619 -0.092769 -0.232769 -0.146414       0     0      0   \n",
       "4581 -0.766874 -1.400054 -0.980063 -1.370560 -1.028520       0     0      0   \n",
       "1928  1.301934 -1.126367 -0.980063 -0.572408 -0.386988       0     0      0   \n",
       "1538 -1.226609 -0.031619 -0.270228  0.361600  1.176746       0     0      0   \n",
       "8389  0.382463 -0.305306  0.084689  0.684257 -0.186510       0     0      0   \n",
       "\n",
       "      yKNN  \n",
       "7776     0  \n",
       "4581     0  \n",
       "1928     0  \n",
       "1538     0  \n",
       "8389     0  "
      ]
     },
     "execution_count": 60,
     "metadata": {},
     "output_type": "execute_result"
    }
   ],
   "source": [
    "dftest['yKNN'] = modelKNN.predict(dftest[['age', 'height', 'weight', 'pts', 'reb']])\n",
    "dftest.head()"
   ]
  },
  {
   "cell_type": "markdown",
   "metadata": {},
   "source": [
    "# Evaluation Metrics"
   ]
  },
  {
   "cell_type": "markdown",
   "metadata": {},
   "source": [
    "1. balanced accuracy\n",
    "2. precision \n",
    "3. recall \n",
    "4. F1 score \n",
    "5. ROC AUC score."
   ]
  },
  {
   "cell_type": "markdown",
   "metadata": {},
   "source": [
    "### Confusion Matrix"
   ]
  },
  {
   "cell_type": "code",
   "execution_count": 61,
   "metadata": {},
   "outputs": [],
   "source": [
    "dfem = pd.DataFrame()\n",
    "from sklearn.metrics import confusion_matrix "
   ]
  },
  {
   "cell_type": "markdown",
   "metadata": {},
   "source": [
    "1. Logistic Regression"
   ]
  },
  {
   "cell_type": "code",
   "execution_count": 62,
   "metadata": {},
   "outputs": [
    {
     "data": {
      "text/plain": [
       "(1693, 4, 15, 9)"
      ]
     },
     "execution_count": 62,
     "metadata": {},
     "output_type": "execute_result"
    }
   ],
   "source": [
    "tnl, fpl, fnl, tpl = confusion_matrix(dftest['target'], dftest['yLog']).ravel()\n",
    "                                                     \n",
    "tnl, fpl, fnl, tpl"
   ]
  },
  {
   "cell_type": "markdown",
   "metadata": {},
   "source": [
    "2. Random Forest"
   ]
  },
  {
   "cell_type": "code",
   "execution_count": 63,
   "metadata": {},
   "outputs": [
    {
     "data": {
      "text/plain": [
       "(1697, 0, 0, 24)"
      ]
     },
     "execution_count": 63,
     "metadata": {},
     "output_type": "execute_result"
    }
   ],
   "source": [
    "tnr, fpr, fnr, tpr = confusion_matrix(dftest['target'], dftest['yRand']).ravel()\n",
    "                                                     \n",
    "tnr, fpr, fnr, tpr"
   ]
  },
  {
   "cell_type": "markdown",
   "metadata": {},
   "source": [
    "3. KNN"
   ]
  },
  {
   "cell_type": "code",
   "execution_count": 64,
   "metadata": {},
   "outputs": [
    {
     "data": {
      "text/plain": [
       "(1695, 2, 10, 14)"
      ]
     },
     "execution_count": 64,
     "metadata": {},
     "output_type": "execute_result"
    }
   ],
   "source": [
    "tnk, fpk, fnk, tpk = confusion_matrix(dftest['target'], dftest['yKNN']).ravel()\n",
    "                                                     \n",
    "tnk, fpk, fnk, tpk"
   ]
  },
  {
   "cell_type": "markdown",
   "metadata": {},
   "source": [
    "#### Balanced Accuracy"
   ]
  },
  {
   "cell_type": "code",
   "execution_count": 65,
   "metadata": {},
   "outputs": [],
   "source": [
    "from sklearn.metrics import balanced_accuracy_score \n",
    "dfem['bacc'] = [balanced_accuracy_score (dftest['target'], dftest['yLog']), balanced_accuracy_score (dftest['target'], dftest['yRand']),\n",
    "               balanced_accuracy_score (dftest['target'], dftest['yKNN'])] \n"
   ]
  },
  {
   "cell_type": "markdown",
   "metadata": {},
   "source": [
    "#### Precision"
   ]
  },
  {
   "cell_type": "code",
   "execution_count": 66,
   "metadata": {},
   "outputs": [],
   "source": [
    "from sklearn.metrics import precision_score \n",
    "\n",
    "dfem['Precision'] = [precision_score(dftest['target'], dftest['yLog']), precision_score(dftest['target'], dftest['yRand']),\n",
    "                    precision_score(dftest['target'], dftest['yKNN'])]\n"
   ]
  },
  {
   "cell_type": "markdown",
   "metadata": {},
   "source": [
    "#### Recall"
   ]
  },
  {
   "cell_type": "code",
   "execution_count": 67,
   "metadata": {},
   "outputs": [],
   "source": [
    "from sklearn.metrics import recall_score \n",
    "dfem['Recall'] = [recall_score(dftest['target'], dftest['yLog']), recall_score(dftest['target'], dftest['yRand']),\n",
    "                    recall_score(dftest['target'], dftest['yKNN'])]"
   ]
  },
  {
   "cell_type": "markdown",
   "metadata": {},
   "source": [
    "#### F1 Score"
   ]
  },
  {
   "cell_type": "code",
   "execution_count": 68,
   "metadata": {},
   "outputs": [],
   "source": [
    "dfem['F1'] = [\n",
    "    2 *(((tpl/(tpl+fpl))*(tpl/(tpl+fnl)))/((tpl/(tpl+fpl))+(tpl/(tpl+fnl)))),\n",
    "    2 *(((tpr/(tpr+fpr))*(tpr/(tpr+fnr)))/((tpr/(tpr+fpr))+(tpr/(tpr+fnr)))),\n",
    "    2 *(((tpk/(tpk+fpk))*(tpk/(tpk+fnk)))/((tpk/(tpk+fpk))+(tpk/(tpk+fnk))))\n",
    "]"
   ]
  },
  {
   "cell_type": "markdown",
   "metadata": {},
   "source": [
    "### ROC AUC Score"
   ]
  },
  {
   "cell_type": "code",
   "execution_count": 69,
   "metadata": {},
   "outputs": [],
   "source": [
    "from sklearn.metrics import  roc_auc_score\n",
    "\n",
    "dfem['roc_auc'] = [roc_auc_score(dftest['target'], dftest['yLog']),\n",
    "                   roc_auc_score(dftest['target'], dftest['yRand']),\n",
    "                   roc_auc_score(dftest['target'], dftest['yKNN'])]"
   ]
  },
  {
   "cell_type": "markdown",
   "metadata": {},
   "source": [
    "## COMPARISON"
   ]
  },
  {
   "cell_type": "code",
   "execution_count": 70,
   "metadata": {},
   "outputs": [
    {
     "data": {
      "text/html": [
       "<div>\n",
       "<style scoped>\n",
       "    .dataframe tbody tr th:only-of-type {\n",
       "        vertical-align: middle;\n",
       "    }\n",
       "\n",
       "    .dataframe tbody tr th {\n",
       "        vertical-align: top;\n",
       "    }\n",
       "\n",
       "    .dataframe thead th {\n",
       "        text-align: right;\n",
       "    }\n",
       "</style>\n",
       "<table border=\"1\" class=\"dataframe\">\n",
       "  <thead>\n",
       "    <tr style=\"text-align: right;\">\n",
       "      <th></th>\n",
       "      <th>bacc</th>\n",
       "      <th>Precision</th>\n",
       "      <th>Recall</th>\n",
       "      <th>F1</th>\n",
       "      <th>roc_auc</th>\n",
       "    </tr>\n",
       "  </thead>\n",
       "  <tbody>\n",
       "    <tr>\n",
       "      <th>LogisticRegression</th>\n",
       "      <td>0.686321</td>\n",
       "      <td>0.692308</td>\n",
       "      <td>0.375000</td>\n",
       "      <td>0.486486</td>\n",
       "      <td>0.686321</td>\n",
       "    </tr>\n",
       "    <tr>\n",
       "      <th>RandomForest</th>\n",
       "      <td>1.000000</td>\n",
       "      <td>1.000000</td>\n",
       "      <td>1.000000</td>\n",
       "      <td>1.000000</td>\n",
       "      <td>1.000000</td>\n",
       "    </tr>\n",
       "    <tr>\n",
       "      <th>KNN</th>\n",
       "      <td>0.791077</td>\n",
       "      <td>0.875000</td>\n",
       "      <td>0.583333</td>\n",
       "      <td>0.700000</td>\n",
       "      <td>0.791077</td>\n",
       "    </tr>\n",
       "  </tbody>\n",
       "</table>\n",
       "</div>"
      ],
      "text/plain": [
       "                        bacc  Precision    Recall        F1   roc_auc\n",
       "LogisticRegression  0.686321   0.692308  0.375000  0.486486  0.686321\n",
       "RandomForest        1.000000   1.000000  1.000000  1.000000  1.000000\n",
       "KNN                 0.791077   0.875000  0.583333  0.700000  0.791077"
      ]
     },
     "execution_count": 70,
     "metadata": {},
     "output_type": "execute_result"
    }
   ],
   "source": [
    "dfem.index=['LogisticRegression', 'RandomForest', 'KNN']\n",
    "dfem"
   ]
  },
  {
   "cell_type": "markdown",
   "metadata": {},
   "source": [
    "#### KESIMPULAN:\n",
    "Berdasarkan perbandingan Evaluation Metrics 3 model di atas, maka dipilih model <b>Random Forest</b>"
   ]
  },
  {
   "cell_type": "markdown",
   "metadata": {},
   "source": [
    "## HUNTING INDONESIAN PLAYERS"
   ]
  },
  {
   "cell_type": "code",
   "execution_count": 71,
   "metadata": {},
   "outputs": [
    {
     "data": {
      "text/html": [
       "<div>\n",
       "<style scoped>\n",
       "    .dataframe tbody tr th:only-of-type {\n",
       "        vertical-align: middle;\n",
       "    }\n",
       "\n",
       "    .dataframe tbody tr th {\n",
       "        vertical-align: top;\n",
       "    }\n",
       "\n",
       "    .dataframe thead th {\n",
       "        text-align: right;\n",
       "    }\n",
       "</style>\n",
       "<table border=\"1\" class=\"dataframe\">\n",
       "  <thead>\n",
       "    <tr style=\"text-align: right;\">\n",
       "      <th></th>\n",
       "      <th>Name</th>\n",
       "      <th>Club</th>\n",
       "      <th>Country</th>\n",
       "      <th>Age</th>\n",
       "      <th>Height</th>\n",
       "      <th>Weight</th>\n",
       "      <th>Avg Points</th>\n",
       "      <th>Avg Rebounds</th>\n",
       "    </tr>\n",
       "  </thead>\n",
       "  <tbody>\n",
       "    <tr>\n",
       "      <th>0</th>\n",
       "      <td>Andakara Prastawa Dyaksa</td>\n",
       "      <td>Pelita Jaya Bakrie</td>\n",
       "      <td>Indonesia</td>\n",
       "      <td>24</td>\n",
       "      <td>190</td>\n",
       "      <td>90</td>\n",
       "      <td>7</td>\n",
       "      <td>6</td>\n",
       "    </tr>\n",
       "    <tr>\n",
       "      <th>1</th>\n",
       "      <td>Reggie Mononimbar</td>\n",
       "      <td>Pelita Jaya Bakrie</td>\n",
       "      <td>Indonesia</td>\n",
       "      <td>21</td>\n",
       "      <td>185</td>\n",
       "      <td>86</td>\n",
       "      <td>6</td>\n",
       "      <td>3</td>\n",
       "    </tr>\n",
       "    <tr>\n",
       "      <th>2</th>\n",
       "      <td>Hardianus Lakudu</td>\n",
       "      <td>Satria Muda Pertamina Jakarta</td>\n",
       "      <td>Indonesia</td>\n",
       "      <td>23</td>\n",
       "      <td>178</td>\n",
       "      <td>83</td>\n",
       "      <td>10</td>\n",
       "      <td>3</td>\n",
       "    </tr>\n",
       "    <tr>\n",
       "      <th>3</th>\n",
       "      <td>Kevin Yonas Sitorus</td>\n",
       "      <td>Satria Muda Pertamina Jakarta</td>\n",
       "      <td>Indonesia</td>\n",
       "      <td>26</td>\n",
       "      <td>185</td>\n",
       "      <td>75</td>\n",
       "      <td>11</td>\n",
       "      <td>4</td>\n",
       "    </tr>\n",
       "    <tr>\n",
       "      <th>4</th>\n",
       "      <td>Arki Dikania Wisnu</td>\n",
       "      <td>Satria Muda Pertamina Jakarta</td>\n",
       "      <td>Indonesia</td>\n",
       "      <td>20</td>\n",
       "      <td>183</td>\n",
       "      <td>80</td>\n",
       "      <td>5</td>\n",
       "      <td>2</td>\n",
       "    </tr>\n",
       "  </tbody>\n",
       "</table>\n",
       "</div>"
      ],
      "text/plain": [
       "                       Name                           Club     Country  Age  \\\n",
       "0  Andakara Prastawa Dyaksa             Pelita Jaya Bakrie   Indonesia   24   \n",
       "1         Reggie Mononimbar             Pelita Jaya Bakrie   Indonesia   21   \n",
       "2          Hardianus Lakudu  Satria Muda Pertamina Jakarta   Indonesia   23   \n",
       "3       Kevin Yonas Sitorus  Satria Muda Pertamina Jakarta   Indonesia   26   \n",
       "4        Arki Dikania Wisnu  Satria Muda Pertamina Jakarta   Indonesia   20   \n",
       "\n",
       "   Height  Weight  Avg Points  Avg Rebounds  \n",
       "0     190      90           7             6  \n",
       "1     185      86           6             3  \n",
       "2     178      83          10             3  \n",
       "3     185      75          11             4  \n",
       "4     183      80           5             2  "
      ]
     },
     "execution_count": 71,
     "metadata": {},
     "output_type": "execute_result"
    }
   ],
   "source": [
    "dfindo = pd.read_excel('IndoPlayer.xlsx')\n",
    "dfindo.head()"
   ]
  },
  {
   "cell_type": "code",
   "execution_count": 72,
   "metadata": {},
   "outputs": [
    {
     "data": {
      "text/html": [
       "<div>\n",
       "<style scoped>\n",
       "    .dataframe tbody tr th:only-of-type {\n",
       "        vertical-align: middle;\n",
       "    }\n",
       "\n",
       "    .dataframe tbody tr th {\n",
       "        vertical-align: top;\n",
       "    }\n",
       "\n",
       "    .dataframe thead th {\n",
       "        text-align: right;\n",
       "    }\n",
       "</style>\n",
       "<table border=\"1\" class=\"dataframe\">\n",
       "  <thead>\n",
       "    <tr style=\"text-align: right;\">\n",
       "      <th></th>\n",
       "      <th>age</th>\n",
       "      <th>height</th>\n",
       "      <th>weight</th>\n",
       "      <th>pts</th>\n",
       "      <th>reb</th>\n",
       "      <th>Name</th>\n",
       "    </tr>\n",
       "  </thead>\n",
       "  <tbody>\n",
       "    <tr>\n",
       "      <th>0</th>\n",
       "      <td>-0.766874</td>\n",
       "      <td>-1.180242</td>\n",
       "      <td>-0.858816</td>\n",
       "      <td>-0.181823</td>\n",
       "      <td>0.976267</td>\n",
       "      <td>Andakara Prastawa Dyaksa</td>\n",
       "    </tr>\n",
       "    <tr>\n",
       "      <th>1</th>\n",
       "      <td>-1.456477</td>\n",
       "      <td>-1.718996</td>\n",
       "      <td>-1.171800</td>\n",
       "      <td>-0.351643</td>\n",
       "      <td>-0.226605</td>\n",
       "      <td>Reggie Mononimbar</td>\n",
       "    </tr>\n",
       "    <tr>\n",
       "      <th>2</th>\n",
       "      <td>-0.996742</td>\n",
       "      <td>-2.473252</td>\n",
       "      <td>-1.406538</td>\n",
       "      <td>0.327636</td>\n",
       "      <td>-0.226605</td>\n",
       "      <td>Hardianus Lakudu</td>\n",
       "    </tr>\n",
       "    <tr>\n",
       "      <th>3</th>\n",
       "      <td>-0.307139</td>\n",
       "      <td>-1.718996</td>\n",
       "      <td>-2.032505</td>\n",
       "      <td>0.497455</td>\n",
       "      <td>0.174352</td>\n",
       "      <td>Kevin Yonas Sitorus</td>\n",
       "    </tr>\n",
       "    <tr>\n",
       "      <th>4</th>\n",
       "      <td>-1.686344</td>\n",
       "      <td>-1.934498</td>\n",
       "      <td>-1.641275</td>\n",
       "      <td>-0.521462</td>\n",
       "      <td>-0.627563</td>\n",
       "      <td>Arki Dikania Wisnu</td>\n",
       "    </tr>\n",
       "  </tbody>\n",
       "</table>\n",
       "</div>"
      ],
      "text/plain": [
       "        age    height    weight       pts       reb                      Name\n",
       "0 -0.766874 -1.180242 -0.858816 -0.181823  0.976267  Andakara Prastawa Dyaksa\n",
       "1 -1.456477 -1.718996 -1.171800 -0.351643 -0.226605         Reggie Mononimbar\n",
       "2 -0.996742 -2.473252 -1.406538  0.327636 -0.226605          Hardianus Lakudu\n",
       "3 -0.307139 -1.718996 -2.032505  0.497455  0.174352       Kevin Yonas Sitorus\n",
       "4 -1.686344 -1.934498 -1.641275 -0.521462 -0.627563        Arki Dikania Wisnu"
      ]
     },
     "execution_count": 72,
     "metadata": {},
     "output_type": "execute_result"
    }
   ],
   "source": [
    "dfi= pd.DataFrame(scaler.transform(dfindo[['Age', 'Height', 'Weight', 'Avg Points', 'Avg Rebounds']]), columns = ['age', 'height', 'weight', 'pts', 'reb'])\n",
    "dfi['Name'] = dfindo['Name']\n",
    "\n",
    "dfi.head()"
   ]
  },
  {
   "cell_type": "code",
   "execution_count": 75,
   "metadata": {},
   "outputs": [
    {
     "data": {
      "text/html": [
       "<div>\n",
       "<style scoped>\n",
       "    .dataframe tbody tr th:only-of-type {\n",
       "        vertical-align: middle;\n",
       "    }\n",
       "\n",
       "    .dataframe tbody tr th {\n",
       "        vertical-align: top;\n",
       "    }\n",
       "\n",
       "    .dataframe thead th {\n",
       "        text-align: right;\n",
       "    }\n",
       "</style>\n",
       "<table border=\"1\" class=\"dataframe\">\n",
       "  <thead>\n",
       "    <tr style=\"text-align: right;\">\n",
       "      <th></th>\n",
       "      <th>age</th>\n",
       "      <th>height</th>\n",
       "      <th>weight</th>\n",
       "      <th>pts</th>\n",
       "      <th>reb</th>\n",
       "      <th>Name</th>\n",
       "      <th>diterima</th>\n",
       "    </tr>\n",
       "  </thead>\n",
       "  <tbody>\n",
       "    <tr>\n",
       "      <th>0</th>\n",
       "      <td>-0.766874</td>\n",
       "      <td>-1.180242</td>\n",
       "      <td>-0.858816</td>\n",
       "      <td>-0.181823</td>\n",
       "      <td>0.976267</td>\n",
       "      <td>Andakara Prastawa Dyaksa</td>\n",
       "      <td>direkrut</td>\n",
       "    </tr>\n",
       "    <tr>\n",
       "      <th>1</th>\n",
       "      <td>-1.456477</td>\n",
       "      <td>-1.718996</td>\n",
       "      <td>-1.171800</td>\n",
       "      <td>-0.351643</td>\n",
       "      <td>-0.226605</td>\n",
       "      <td>Reggie Mononimbar</td>\n",
       "      <td>tidak direkrut</td>\n",
       "    </tr>\n",
       "    <tr>\n",
       "      <th>2</th>\n",
       "      <td>-0.996742</td>\n",
       "      <td>-2.473252</td>\n",
       "      <td>-1.406538</td>\n",
       "      <td>0.327636</td>\n",
       "      <td>-0.226605</td>\n",
       "      <td>Hardianus Lakudu</td>\n",
       "      <td>tidak direkrut</td>\n",
       "    </tr>\n",
       "    <tr>\n",
       "      <th>3</th>\n",
       "      <td>-0.307139</td>\n",
       "      <td>-1.718996</td>\n",
       "      <td>-2.032505</td>\n",
       "      <td>0.497455</td>\n",
       "      <td>0.174352</td>\n",
       "      <td>Kevin Yonas Sitorus</td>\n",
       "      <td>tidak direkrut</td>\n",
       "    </tr>\n",
       "    <tr>\n",
       "      <th>4</th>\n",
       "      <td>-1.686344</td>\n",
       "      <td>-1.934498</td>\n",
       "      <td>-1.641275</td>\n",
       "      <td>-0.521462</td>\n",
       "      <td>-0.627563</td>\n",
       "      <td>Arki Dikania Wisnu</td>\n",
       "      <td>tidak direkrut</td>\n",
       "    </tr>\n",
       "    <tr>\n",
       "      <th>5</th>\n",
       "      <td>-1.456477</td>\n",
       "      <td>-1.072491</td>\n",
       "      <td>-1.250046</td>\n",
       "      <td>-0.691282</td>\n",
       "      <td>2.580097</td>\n",
       "      <td>Laurentius Steven Oei</td>\n",
       "      <td>tidak direkrut</td>\n",
       "    </tr>\n",
       "    <tr>\n",
       "      <th>6</th>\n",
       "      <td>-0.537007</td>\n",
       "      <td>-1.395744</td>\n",
       "      <td>-0.858816</td>\n",
       "      <td>-0.181823</td>\n",
       "      <td>0.575310</td>\n",
       "      <td>Mei Joni</td>\n",
       "      <td>direkrut</td>\n",
       "    </tr>\n",
       "    <tr>\n",
       "      <th>7</th>\n",
       "      <td>-0.996742</td>\n",
       "      <td>-2.365501</td>\n",
       "      <td>-1.093554</td>\n",
       "      <td>-1.200741</td>\n",
       "      <td>-0.627563</td>\n",
       "      <td>Vincent Rivaldi Kosasih</td>\n",
       "      <td>tidak direkrut</td>\n",
       "    </tr>\n",
       "    <tr>\n",
       "      <th>8</th>\n",
       "      <td>-1.456477</td>\n",
       "      <td>-2.581003</td>\n",
       "      <td>-1.641275</td>\n",
       "      <td>0.157816</td>\n",
       "      <td>1.778182</td>\n",
       "      <td>Hardian Wicaksono</td>\n",
       "      <td>tidak direkrut</td>\n",
       "    </tr>\n",
       "    <tr>\n",
       "      <th>9</th>\n",
       "      <td>-0.766874</td>\n",
       "      <td>-2.042249</td>\n",
       "      <td>-1.250046</td>\n",
       "      <td>-0.351643</td>\n",
       "      <td>0.575310</td>\n",
       "      <td>Brandon Jawato</td>\n",
       "      <td>tidak direkrut</td>\n",
       "    </tr>\n",
       "  </tbody>\n",
       "</table>\n",
       "</div>"
      ],
      "text/plain": [
       "        age    height    weight       pts       reb                      Name  \\\n",
       "0 -0.766874 -1.180242 -0.858816 -0.181823  0.976267  Andakara Prastawa Dyaksa   \n",
       "1 -1.456477 -1.718996 -1.171800 -0.351643 -0.226605         Reggie Mononimbar   \n",
       "2 -0.996742 -2.473252 -1.406538  0.327636 -0.226605          Hardianus Lakudu   \n",
       "3 -0.307139 -1.718996 -2.032505  0.497455  0.174352       Kevin Yonas Sitorus   \n",
       "4 -1.686344 -1.934498 -1.641275 -0.521462 -0.627563        Arki Dikania Wisnu   \n",
       "5 -1.456477 -1.072491 -1.250046 -0.691282  2.580097     Laurentius Steven Oei   \n",
       "6 -0.537007 -1.395744 -0.858816 -0.181823  0.575310                  Mei Joni   \n",
       "7 -0.996742 -2.365501 -1.093554 -1.200741 -0.627563   Vincent Rivaldi Kosasih   \n",
       "8 -1.456477 -2.581003 -1.641275  0.157816  1.778182         Hardian Wicaksono   \n",
       "9 -0.766874 -2.042249 -1.250046 -0.351643  0.575310            Brandon Jawato   \n",
       "\n",
       "         diterima  \n",
       "0        direkrut  \n",
       "1  tidak direkrut  \n",
       "2  tidak direkrut  \n",
       "3  tidak direkrut  \n",
       "4  tidak direkrut  \n",
       "5  tidak direkrut  \n",
       "6        direkrut  \n",
       "7  tidak direkrut  \n",
       "8  tidak direkrut  \n",
       "9  tidak direkrut  "
      ]
     },
     "execution_count": 75,
     "metadata": {},
     "output_type": "execute_result"
    }
   ],
   "source": [
    "dfi['diterima'] = modelRand.predict(dfi[['age', 'height', 'weight', 'pts', 'reb']])\n",
    "dfi['diterima'] = dfi['diterima'].apply(lambda x: 'direkrut' if x==1 else 'tidak direkrut')\n",
    "dfi"
   ]
  },
  {
   "cell_type": "code",
   "execution_count": 77,
   "metadata": {},
   "outputs": [
    {
     "data": {
      "text/html": [
       "<div>\n",
       "<style scoped>\n",
       "    .dataframe tbody tr th:only-of-type {\n",
       "        vertical-align: middle;\n",
       "    }\n",
       "\n",
       "    .dataframe tbody tr th {\n",
       "        vertical-align: top;\n",
       "    }\n",
       "\n",
       "    .dataframe thead th {\n",
       "        text-align: right;\n",
       "    }\n",
       "</style>\n",
       "<table border=\"1\" class=\"dataframe\">\n",
       "  <thead>\n",
       "    <tr style=\"text-align: right;\">\n",
       "      <th></th>\n",
       "      <th>Name</th>\n",
       "      <th>Club</th>\n",
       "      <th>Country</th>\n",
       "      <th>Age</th>\n",
       "      <th>Height</th>\n",
       "      <th>Weight</th>\n",
       "      <th>Avg Points</th>\n",
       "      <th>Avg Rebounds</th>\n",
       "      <th>diterima</th>\n",
       "    </tr>\n",
       "  </thead>\n",
       "  <tbody>\n",
       "    <tr>\n",
       "      <th>0</th>\n",
       "      <td>Andakara Prastawa Dyaksa</td>\n",
       "      <td>Pelita Jaya Bakrie</td>\n",
       "      <td>Indonesia</td>\n",
       "      <td>24</td>\n",
       "      <td>190</td>\n",
       "      <td>90</td>\n",
       "      <td>7</td>\n",
       "      <td>6</td>\n",
       "      <td>direkrut</td>\n",
       "    </tr>\n",
       "    <tr>\n",
       "      <th>1</th>\n",
       "      <td>Reggie Mononimbar</td>\n",
       "      <td>Pelita Jaya Bakrie</td>\n",
       "      <td>Indonesia</td>\n",
       "      <td>21</td>\n",
       "      <td>185</td>\n",
       "      <td>86</td>\n",
       "      <td>6</td>\n",
       "      <td>3</td>\n",
       "      <td>tidak direkrut</td>\n",
       "    </tr>\n",
       "    <tr>\n",
       "      <th>2</th>\n",
       "      <td>Hardianus Lakudu</td>\n",
       "      <td>Satria Muda Pertamina Jakarta</td>\n",
       "      <td>Indonesia</td>\n",
       "      <td>23</td>\n",
       "      <td>178</td>\n",
       "      <td>83</td>\n",
       "      <td>10</td>\n",
       "      <td>3</td>\n",
       "      <td>tidak direkrut</td>\n",
       "    </tr>\n",
       "    <tr>\n",
       "      <th>3</th>\n",
       "      <td>Kevin Yonas Sitorus</td>\n",
       "      <td>Satria Muda Pertamina Jakarta</td>\n",
       "      <td>Indonesia</td>\n",
       "      <td>26</td>\n",
       "      <td>185</td>\n",
       "      <td>75</td>\n",
       "      <td>11</td>\n",
       "      <td>4</td>\n",
       "      <td>tidak direkrut</td>\n",
       "    </tr>\n",
       "    <tr>\n",
       "      <th>4</th>\n",
       "      <td>Arki Dikania Wisnu</td>\n",
       "      <td>Satria Muda Pertamina Jakarta</td>\n",
       "      <td>Indonesia</td>\n",
       "      <td>20</td>\n",
       "      <td>183</td>\n",
       "      <td>80</td>\n",
       "      <td>5</td>\n",
       "      <td>2</td>\n",
       "      <td>tidak direkrut</td>\n",
       "    </tr>\n",
       "    <tr>\n",
       "      <th>5</th>\n",
       "      <td>Laurentius Steven Oei</td>\n",
       "      <td>Satria Muda Pertamina Jakarta</td>\n",
       "      <td>Indonesia</td>\n",
       "      <td>21</td>\n",
       "      <td>191</td>\n",
       "      <td>85</td>\n",
       "      <td>4</td>\n",
       "      <td>10</td>\n",
       "      <td>tidak direkrut</td>\n",
       "    </tr>\n",
       "    <tr>\n",
       "      <th>6</th>\n",
       "      <td>Mei Joni</td>\n",
       "      <td>Stapac</td>\n",
       "      <td>Indonesia</td>\n",
       "      <td>25</td>\n",
       "      <td>188</td>\n",
       "      <td>90</td>\n",
       "      <td>7</td>\n",
       "      <td>5</td>\n",
       "      <td>direkrut</td>\n",
       "    </tr>\n",
       "    <tr>\n",
       "      <th>7</th>\n",
       "      <td>Vincent Rivaldi Kosasih</td>\n",
       "      <td>Stapac</td>\n",
       "      <td>Indonesia</td>\n",
       "      <td>23</td>\n",
       "      <td>179</td>\n",
       "      <td>87</td>\n",
       "      <td>1</td>\n",
       "      <td>2</td>\n",
       "      <td>tidak direkrut</td>\n",
       "    </tr>\n",
       "    <tr>\n",
       "      <th>8</th>\n",
       "      <td>Hardian Wicaksono</td>\n",
       "      <td>Pacific Caesar Surabaya</td>\n",
       "      <td>Indonesia</td>\n",
       "      <td>21</td>\n",
       "      <td>177</td>\n",
       "      <td>80</td>\n",
       "      <td>9</td>\n",
       "      <td>8</td>\n",
       "      <td>tidak direkrut</td>\n",
       "    </tr>\n",
       "    <tr>\n",
       "      <th>9</th>\n",
       "      <td>Brandon Jawato</td>\n",
       "      <td>Louvre Surabaya</td>\n",
       "      <td>Indonesia</td>\n",
       "      <td>24</td>\n",
       "      <td>182</td>\n",
       "      <td>85</td>\n",
       "      <td>6</td>\n",
       "      <td>5</td>\n",
       "      <td>tidak direkrut</td>\n",
       "    </tr>\n",
       "  </tbody>\n",
       "</table>\n",
       "</div>"
      ],
      "text/plain": [
       "                       Name                           Club     Country  Age  \\\n",
       "0  Andakara Prastawa Dyaksa             Pelita Jaya Bakrie   Indonesia   24   \n",
       "1         Reggie Mononimbar             Pelita Jaya Bakrie   Indonesia   21   \n",
       "2          Hardianus Lakudu  Satria Muda Pertamina Jakarta   Indonesia   23   \n",
       "3       Kevin Yonas Sitorus  Satria Muda Pertamina Jakarta   Indonesia   26   \n",
       "4        Arki Dikania Wisnu  Satria Muda Pertamina Jakarta   Indonesia   20   \n",
       "5     Laurentius Steven Oei  Satria Muda Pertamina Jakarta   Indonesia   21   \n",
       "6                  Mei Joni                         Stapac   Indonesia   25   \n",
       "7   Vincent Rivaldi Kosasih                         Stapac   Indonesia   23   \n",
       "8         Hardian Wicaksono        Pacific Caesar Surabaya   Indonesia   21   \n",
       "9            Brandon Jawato                Louvre Surabaya   Indonesia   24   \n",
       "\n",
       "   Height  Weight  Avg Points  Avg Rebounds        diterima  \n",
       "0     190      90           7             6        direkrut  \n",
       "1     185      86           6             3  tidak direkrut  \n",
       "2     178      83          10             3  tidak direkrut  \n",
       "3     185      75          11             4  tidak direkrut  \n",
       "4     183      80           5             2  tidak direkrut  \n",
       "5     191      85           4            10  tidak direkrut  \n",
       "6     188      90           7             5        direkrut  \n",
       "7     179      87           1             2  tidak direkrut  \n",
       "8     177      80           9             8  tidak direkrut  \n",
       "9     182      85           6             5  tidak direkrut  "
      ]
     },
     "execution_count": 77,
     "metadata": {},
     "output_type": "execute_result"
    }
   ],
   "source": [
    "dfindo['diterima'] = dfi['diterima']\n",
    "dfindo"
   ]
  },
  {
   "cell_type": "code",
   "execution_count": null,
   "metadata": {},
   "outputs": [],
   "source": []
  }
 ],
 "metadata": {
  "kernelspec": {
   "display_name": "Python 3",
   "language": "python",
   "name": "python3"
  },
  "language_info": {
   "codemirror_mode": {
    "name": "ipython",
    "version": 3
   },
   "file_extension": ".py",
   "mimetype": "text/x-python",
   "name": "python",
   "nbconvert_exporter": "python",
   "pygments_lexer": "ipython3",
   "version": "3.8.0"
  }
 },
 "nbformat": 4,
 "nbformat_minor": 4
}
